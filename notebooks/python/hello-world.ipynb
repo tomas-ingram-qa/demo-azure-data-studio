{
    "metadata": {
        "kernelspec": {
            "name": "python3",
            "display_name": "Python 3 (ipykernel)",
            "language": "python"
        },
        "language_info": {
            "name": "python",
            "version": "3.8.10",
            "mimetype": "text/x-python",
            "codemirror_mode": {
                "name": "ipython",
                "version": 3
            },
            "pygments_lexer": "ipython3",
            "nbconvert_exporter": "python",
            "file_extension": ".py"
        },
        "extensions": {
            "azuredatastudio": {
                "version": 1,
                "views": []
            }
        }
    },
    "nbformat_minor": 2,
    "nbformat": 4,
    "cells": [
        {
            "cell_type": "markdown",
            "source": [
                "# Hello World\n",
                "\n",
                "## Description\n",
                "\n",
                "The canonical example in action"
            ],
            "metadata": {
                "azdata_cell_guid": "a7ee7b48-72af-4f29-bbb3-7c470af0b28b"
            },
            "attachments": {}
        },
        {
            "cell_type": "code",
            "source": [
                "print(\"hello world!\")"
            ],
            "metadata": {
                "azdata_cell_guid": "68d863b0-8ac0-4aa1-9073-36038a8c2484"
            },
            "outputs": [
                {
                    "name": "stdout",
                    "text": "hello world!\n",
                    "output_type": "stream"
                }
            ],
            "execution_count": 47
        },
        {
            "cell_type": "markdown",
            "source": [
                "## Variables\n",
                "\n",
                "Next using a variable for the string literal"
            ],
            "metadata": {
                "azdata_cell_guid": "5cb07991-3284-4389-ae8d-b743014443cb"
            },
            "attachments": {}
        },
        {
            "cell_type": "code",
            "source": [
                "txt = \"hello world!\"\r\n",
                "print(txt)"
            ],
            "metadata": {
                "azdata_cell_guid": "2d90eb16-f6aa-4003-b3df-3b062a7ea072"
            },
            "outputs": [
                {
                    "name": "stdout",
                    "text": "hello world!\n",
                    "output_type": "stream"
                }
            ],
            "execution_count": 48
        },
        {
            "cell_type": "markdown",
            "source": [
                "## Counting Letters\n",
                "\n",
                "Now we'll count the total number of letters, note how the `txt` variable does not need re-declaring"
            ],
            "metadata": {
                "azdata_cell_guid": "d26a67d3-6d5d-4b4c-92eb-2ac283d54a7b"
            },
            "attachments": {}
        },
        {
            "cell_type": "code",
            "source": [
                "len(txt)"
            ],
            "metadata": {
                "azdata_cell_guid": "f37f65f7-6c92-4fcc-8885-4a44af9e1c4d"
            },
            "outputs": [
                {
                    "data": {
                        "text/plain": "12"
                    },
                    "metadata": {},
                    "execution_count": 42,
                    "output_type": "execute_result"
                }
            ],
            "execution_count": 42
        },
        {
            "cell_type": "markdown",
            "source": [
                "Let's kick this up a step and get a dictionary containing the frequencies of the letters in the `txt` variable"
            ],
            "metadata": {
                "azdata_cell_guid": "fb63de2b-dbec-4f13-8c32-b36ad4daf0f8"
            },
            "attachments": {}
        },
        {
            "cell_type": "code",
            "source": [
                "{k: v for k, v in collections.Counter(txt).items()}"
            ],
            "metadata": {
                "azdata_cell_guid": "b303a43d-abab-4b27-b17a-fa9874a03a65"
            },
            "outputs": [
                {
                    "data": {
                        "text/plain": "{'h': 1, 'e': 1, 'l': 3, 'o': 2, ' ': 1, 'w': 1, 'r': 1, 'd': 1, '!': 1}"
                    },
                    "metadata": {},
                    "execution_count": 52,
                    "output_type": "execute_result"
                }
            ],
            "execution_count": 52
        },
        {
            "cell_type": "markdown",
            "source": [
                "And taking it further we'll get a list of tuples of the frequency of letters sorted by frequency `items[1]` then by letter `items[0]` and"
            ],
            "metadata": {
                "azdata_cell_guid": "5d87e20e-994d-4d1a-b51b-aeb5cc0bc495"
            },
            "attachments": {}
        },
        {
            "cell_type": "code",
            "source": [
                "{k: v for k, v in sorted(frequency.items(), key=lambda item: (item[1], item[0]))}"
            ],
            "metadata": {
                "azdata_cell_guid": "670479b4-4970-42e6-9c8e-db50e502077f"
            },
            "outputs": [
                {
                    "data": {
                        "text/plain": "{' ': 1, '!': 1, 'd': 1, 'e': 1, 'h': 1, 'r': 1, 'w': 1, 'o': 2, 'l': 3}"
                    },
                    "metadata": {},
                    "execution_count": 54,
                    "output_type": "execute_result"
                }
            ],
            "execution_count": 54
        }
    ]
}